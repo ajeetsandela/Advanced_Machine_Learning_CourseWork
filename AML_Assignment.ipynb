{
  "nbformat": 4,
  "nbformat_minor": 0,
  "metadata": {
    "colab": {
      "provenance": [],
      "authorship_tag": "ABX9TyN5zNdWBXSHKbHAzM43yxm2",
      "include_colab_link": true
    },
    "kernelspec": {
      "name": "python3",
      "display_name": "Python 3"
    },
    "language_info": {
      "name": "python"
    },
    "accelerator": "TPU"
  },
  "cells": [
    {
      "cell_type": "markdown",
      "metadata": {
        "id": "view-in-github",
        "colab_type": "text"
      },
      "source": [
        "<a href=\"https://colab.research.google.com/github/ajeetsandela/Advanced_Machine_Learning_CourseWork/blob/main/AML_Assignment.ipynb\" target=\"_parent\"><img src=\"https://colab.research.google.com/assets/colab-badge.svg\" alt=\"Open In Colab\"/></a>"
      ]
    },
    {
      "cell_type": "markdown",
      "source": [
        "The IMDB dataset\n",
        "We'll be working with \"IMDB dataset\", a set of 50,000 highly-polarized reviews from the Internet Movie Database. They are split into 25,000 reviews for training and 25,000 reviews for testing, each set consisting in 50% negative and 50% positive reviews.\n",
        "\n",
        "Why do we have these two separate training and test sets? You should never test a machine learning model on the same data that you used to train it! Just because a model performs well on its training data doesn't mean that it will perform well on data it has never seen, and what you actually care about is your model's performance on new data (since you already know the labels of your training data -- obviously you don't need your model to predict those). For instance, it is possible that your model could end up merely memorizing a mapping between your training samples and their targets -- which would be completely useless for the task of predicting targets for data never seen before. We will go over this point in much more detail in the next chapter.\n",
        "\n",
        "Just like the MNIST dataset, the IMDB dataset comes packaged with Keras. It has already been preprocessed: the reviews (sequences of words) have been turned into sequences of integers, where each integer stands for a specific word in a dictionary.\n",
        "\n",
        "The following code will load the dataset (when you run it for the first time, about 80MB of data will be downloaded to your machine)"
      ],
      "metadata": {
        "id": "YvSOWRZj2lJr"
      }
    },
    {
      "cell_type": "code",
      "execution_count": 1,
      "metadata": {
        "id": "XEYQStIT1o3w"
      },
      "outputs": [],
      "source": [
        "from keras.datasets import imdb\n",
        "\n",
        "(train_data, train_labels), (test_data, test_labels) = imdb.load_data(num_words=10000)"
      ]
    },
    {
      "cell_type": "markdown",
      "source": [
        "The argument num_words=10000 means that we will only keep the top 10,000 most frequently occurring words in the training data. Rare words will be discarded. This allows us to work with vector data of manageable size.\n",
        "\n",
        "The variables train_data and test_data are lists of reviews, each review being a list of word indices (encoding a sequence of words). train_labels and test_labels are lists of 0s and 1s, where 0 stands for \"negative\" and 1 stands for \"positive\":"
      ],
      "metadata": {
        "id": "omDQKMZR2twi"
      }
    },
    {
      "cell_type": "code",
      "source": [
        "train_data[0]"
      ],
      "metadata": {
        "colab": {
          "base_uri": "https://localhost:8080/"
        },
        "id": "0Df6tqrq2Kp_",
        "outputId": "416c7b04-7f84-469b-d013-0b85242f1d97"
      },
      "execution_count": 2,
      "outputs": [
        {
          "output_type": "execute_result",
          "data": {
            "text/plain": [
              "[1,\n",
              " 14,\n",
              " 22,\n",
              " 16,\n",
              " 43,\n",
              " 530,\n",
              " 973,\n",
              " 1622,\n",
              " 1385,\n",
              " 65,\n",
              " 458,\n",
              " 4468,\n",
              " 66,\n",
              " 3941,\n",
              " 4,\n",
              " 173,\n",
              " 36,\n",
              " 256,\n",
              " 5,\n",
              " 25,\n",
              " 100,\n",
              " 43,\n",
              " 838,\n",
              " 112,\n",
              " 50,\n",
              " 670,\n",
              " 2,\n",
              " 9,\n",
              " 35,\n",
              " 480,\n",
              " 284,\n",
              " 5,\n",
              " 150,\n",
              " 4,\n",
              " 172,\n",
              " 112,\n",
              " 167,\n",
              " 2,\n",
              " 336,\n",
              " 385,\n",
              " 39,\n",
              " 4,\n",
              " 172,\n",
              " 4536,\n",
              " 1111,\n",
              " 17,\n",
              " 546,\n",
              " 38,\n",
              " 13,\n",
              " 447,\n",
              " 4,\n",
              " 192,\n",
              " 50,\n",
              " 16,\n",
              " 6,\n",
              " 147,\n",
              " 2025,\n",
              " 19,\n",
              " 14,\n",
              " 22,\n",
              " 4,\n",
              " 1920,\n",
              " 4613,\n",
              " 469,\n",
              " 4,\n",
              " 22,\n",
              " 71,\n",
              " 87,\n",
              " 12,\n",
              " 16,\n",
              " 43,\n",
              " 530,\n",
              " 38,\n",
              " 76,\n",
              " 15,\n",
              " 13,\n",
              " 1247,\n",
              " 4,\n",
              " 22,\n",
              " 17,\n",
              " 515,\n",
              " 17,\n",
              " 12,\n",
              " 16,\n",
              " 626,\n",
              " 18,\n",
              " 2,\n",
              " 5,\n",
              " 62,\n",
              " 386,\n",
              " 12,\n",
              " 8,\n",
              " 316,\n",
              " 8,\n",
              " 106,\n",
              " 5,\n",
              " 4,\n",
              " 2223,\n",
              " 5244,\n",
              " 16,\n",
              " 480,\n",
              " 66,\n",
              " 3785,\n",
              " 33,\n",
              " 4,\n",
              " 130,\n",
              " 12,\n",
              " 16,\n",
              " 38,\n",
              " 619,\n",
              " 5,\n",
              " 25,\n",
              " 124,\n",
              " 51,\n",
              " 36,\n",
              " 135,\n",
              " 48,\n",
              " 25,\n",
              " 1415,\n",
              " 33,\n",
              " 6,\n",
              " 22,\n",
              " 12,\n",
              " 215,\n",
              " 28,\n",
              " 77,\n",
              " 52,\n",
              " 5,\n",
              " 14,\n",
              " 407,\n",
              " 16,\n",
              " 82,\n",
              " 2,\n",
              " 8,\n",
              " 4,\n",
              " 107,\n",
              " 117,\n",
              " 5952,\n",
              " 15,\n",
              " 256,\n",
              " 4,\n",
              " 2,\n",
              " 7,\n",
              " 3766,\n",
              " 5,\n",
              " 723,\n",
              " 36,\n",
              " 71,\n",
              " 43,\n",
              " 530,\n",
              " 476,\n",
              " 26,\n",
              " 400,\n",
              " 317,\n",
              " 46,\n",
              " 7,\n",
              " 4,\n",
              " 2,\n",
              " 1029,\n",
              " 13,\n",
              " 104,\n",
              " 88,\n",
              " 4,\n",
              " 381,\n",
              " 15,\n",
              " 297,\n",
              " 98,\n",
              " 32,\n",
              " 2071,\n",
              " 56,\n",
              " 26,\n",
              " 141,\n",
              " 6,\n",
              " 194,\n",
              " 7486,\n",
              " 18,\n",
              " 4,\n",
              " 226,\n",
              " 22,\n",
              " 21,\n",
              " 134,\n",
              " 476,\n",
              " 26,\n",
              " 480,\n",
              " 5,\n",
              " 144,\n",
              " 30,\n",
              " 5535,\n",
              " 18,\n",
              " 51,\n",
              " 36,\n",
              " 28,\n",
              " 224,\n",
              " 92,\n",
              " 25,\n",
              " 104,\n",
              " 4,\n",
              " 226,\n",
              " 65,\n",
              " 16,\n",
              " 38,\n",
              " 1334,\n",
              " 88,\n",
              " 12,\n",
              " 16,\n",
              " 283,\n",
              " 5,\n",
              " 16,\n",
              " 4472,\n",
              " 113,\n",
              " 103,\n",
              " 32,\n",
              " 15,\n",
              " 16,\n",
              " 5345,\n",
              " 19,\n",
              " 178,\n",
              " 32]"
            ]
          },
          "metadata": {},
          "execution_count": 2
        }
      ]
    },
    {
      "cell_type": "code",
      "source": [
        "train_labels[0]\n"
      ],
      "metadata": {
        "colab": {
          "base_uri": "https://localhost:8080/"
        },
        "id": "V2S42fAl2S5i",
        "outputId": "64f7a04e-d357-4282-eb9e-d60907b0173b"
      },
      "execution_count": 3,
      "outputs": [
        {
          "output_type": "execute_result",
          "data": {
            "text/plain": [
              "1"
            ]
          },
          "metadata": {},
          "execution_count": 3
        }
      ]
    },
    {
      "cell_type": "markdown",
      "source": [
        "Since we restricted ourselves to the top 10,000 most frequent words, no word index will exceed 10,000:\n",
        "\n"
      ],
      "metadata": {
        "id": "nw3OKc0N3Dwx"
      }
    },
    {
      "cell_type": "code",
      "source": [
        "max([max(sequence) for sequence in train_data])\n"
      ],
      "metadata": {
        "colab": {
          "base_uri": "https://localhost:8080/"
        },
        "id": "VTIbBXk82_RR",
        "outputId": "0572e5e0-f883-4628-eb07-d1c9f2eb0b50"
      },
      "execution_count": 4,
      "outputs": [
        {
          "output_type": "execute_result",
          "data": {
            "text/plain": [
              "9999"
            ]
          },
          "metadata": {},
          "execution_count": 4
        }
      ]
    },
    {
      "cell_type": "markdown",
      "source": [
        "For kicks, here's how you can quickly decode one of these reviews back to English words:\n",
        "\n"
      ],
      "metadata": {
        "id": "UpE3uuzJ3OM4"
      }
    },
    {
      "cell_type": "code",
      "source": [
        "# word_index is a dictionary mapping words to an integer index\n",
        "word_index = imdb.get_word_index()\n",
        "# We reverse it, mapping integer indices to words\n",
        "reverse_word_index = dict([(value, key) for (key, value) in word_index.items()])\n",
        "# We decode the review; note that our indices were offset by 3\n",
        "# because 0, 1 and 2 are reserved indices for \"padding\", \"start of sequence\", and \"unknown\".\n",
        "decoded_review = ' '.join([reverse_word_index.get(i - 3, '?') for i in train_data[0]])\n"
      ],
      "metadata": {
        "id": "Jro5BSIE3P7Z"
      },
      "execution_count": 5,
      "outputs": []
    },
    {
      "cell_type": "markdown",
      "source": [
        "Preparing the data\n",
        "We cannot feed lists of integers into a neural network. We have to turn our lists into tensors. There are two ways we could do that:\n",
        "\n",
        "We could pad our lists so that they all have the same length, and turn them into an integer tensor of shape (samples, word_indices),\n",
        "then use as first layer in our network a layer capable of handling such integer tensors (the Embedding layer, which we will cover in detail later in the book).\n",
        "\n",
        "We could one-hot-encode our lists to turn them into vectors of 0s and 1s. Concretely, this would mean for instance turning the sequence\n",
        "[3, 5] into a 10,000-dimensional vector that would be all-zeros except for indices 3 and 5, which would be ones. Then we could use as first layer in our network a Dense layer, capable of handling floating point vector data.\n",
        "\n",
        "We will go with the latter solution. Let's vectorize our data, which we will do manually for maximum clarity:\n",
        "\n"
      ],
      "metadata": {
        "id": "S4hv8vLV_GoN"
      }
    },
    {
      "cell_type": "code",
      "source": [
        "import numpy as np\n",
        "\n",
        "def vectorize_sequences(sequences, dimension=10000):\n",
        "    # Create an all-zero matrix of shape (len(sequences), dimension)\n",
        "    results = np.zeros((len(sequences), dimension))\n",
        "    for i, sequence in enumerate(sequences):\n",
        "        results[i, sequence] = 1.  # set specific indices of results[i] to 1s\n",
        "    return results\n",
        "\n",
        "# Our vectorized training data\n",
        "x_train = vectorize_sequences(train_data)\n",
        "# Our vectorized test data\n",
        "x_test = vectorize_sequences(test_data)"
      ],
      "metadata": {
        "id": "q5uoO34l39JO"
      },
      "execution_count": 6,
      "outputs": []
    },
    {
      "cell_type": "code",
      "source": [
        "#Here's what our samples look like now:\n",
        "x_train[0]\n"
      ],
      "metadata": {
        "colab": {
          "base_uri": "https://localhost:8080/"
        },
        "id": "-xrpiRsuCQ-c",
        "outputId": "3fd6df54-7ac6-4435-e5db-d224f9e96f5d"
      },
      "execution_count": 7,
      "outputs": [
        {
          "output_type": "execute_result",
          "data": {
            "text/plain": [
              "array([0., 1., 1., ..., 0., 0., 0.])"
            ]
          },
          "metadata": {},
          "execution_count": 7
        }
      ]
    },
    {
      "cell_type": "code",
      "source": [
        "#We should also vectorize our labels, which is straightforward:\n",
        "# Our vectorized labels\n",
        "y_train = np.asarray(train_labels).astype('float32')\n",
        "y_test = np.asarray(test_labels).astype('float32')\n",
        "#Now our data is ready to be fed into a neural network."
      ],
      "metadata": {
        "id": "N3VLQ812CXmG"
      },
      "execution_count": 8,
      "outputs": []
    },
    {
      "cell_type": "markdown",
      "source": [],
      "metadata": {
        "id": "74n2uPCk2kBC"
      }
    },
    {
      "cell_type": "markdown",
      "source": [
        "Building our network\n",
        "Our input data is simply vectors, and our labels are scalars (1s and 0s): this is the easiest setup you will ever encounter. A type of network that performs well on such a problem would be a simple stack of fully-connected (Dense) layers with relu activations: Dense(16, activation='relu')\n",
        "\n",
        "The argument being passed to each Dense layer (16) is the number of \"hidden units\" of the layer. What's a hidden unit? It's a dimension in the representation space of the layer. You may remember from the previous chapter that each such Dense layer with a relu activation implements the following chain of tensor operations:\n",
        "\n",
        "output = relu(dot(W, input) + b)\n",
        "\n",
        "Having 16 hidden units means that the weight matrix W will have shape (input_dimension, 16), i.e. the dot product with W will project the input data onto a 16-dimensional representation space (and then we would add the bias vector b and apply the relu operation). You can intuitively understand the dimensionality of your representation space as \"how much freedom you are allowing the network to have when learning internal representations\". Having more hidden units (a higher-dimensional representation space) allows your network to learn more complex representations, but it makes your network more computationally expensive and may lead to learning unwanted patterns (patterns that will improve performance on the training data but not on the test data).\n",
        "\n",
        "There are two key architecture decisions to be made about such stack of dense layers:\n",
        "\n",
        "How many layers to use.\n",
        "How many \"hidden units\" to chose for each layer.\n",
        "In the next chapter, you will learn formal principles to guide you in making these choices. For the time being, you will have to trust us with the following architecture choice: two intermediate layers with 16 hidden units each, and a third layer which will output the scalar prediction regarding the sentiment of the current review. The intermediate layers will use relu as their \"activation function\", and the final layer will use a sigmoid activation so as to output a probability (a score between 0 and 1, indicating how likely the sample is to have the target \"1\", i.e. how likely the review is to be positive). A relu (rectified linear unit) is a function meant to zero-out negative values, while a sigmoid \"squashes\" arbitrary values into the [0, 1] interval, thus outputting something that can be interpreted as a probability.\n",
        "\n",
        "Here's what our network looks like:\n",
        "\n",
        "3-layer network\n",
        "\n",
        "And here's the Keras implementation, very similar to the MNIST example you saw previously:"
      ],
      "metadata": {
        "id": "h0VoaGyYCrb_"
      }
    },
    {
      "cell_type": "code",
      "source": [
        "from keras import models\n",
        "from keras import layers\n",
        "\n",
        "model = models.Sequential()\n",
        "model.add(layers.Dense(16, activation='relu', input_shape=(10000,)))\n",
        "model.add(layers.Dense(16, activation='relu'))\n",
        "model.add(layers.Dense(1, activation='sigmoid'))\n"
      ],
      "metadata": {
        "id": "WsVwGs_LCs2p"
      },
      "execution_count": 9,
      "outputs": []
    },
    {
      "cell_type": "code",
      "source": [
        "model.compile(optimizer='rmsprop',\n",
        "              loss='binary_crossentropy',\n",
        "              metrics=['accuracy'])"
      ],
      "metadata": {
        "id": "9IHzsgrQEvc_"
      },
      "execution_count": 10,
      "outputs": []
    },
    {
      "cell_type": "code",
      "source": [
        "from keras import optimizers\n",
        "\n",
        "model.compile(optimizer=optimizers.RMSprop(learning_rate=0.001),\n",
        "              loss='binary_crossentropy',\n",
        "              metrics=['accuracy'])"
      ],
      "metadata": {
        "id": "eiYONfuXE3zG"
      },
      "execution_count": 11,
      "outputs": []
    },
    {
      "cell_type": "code",
      "source": [
        "from keras import losses\n",
        "from keras import metrics\n",
        "\n",
        "model.compile(optimizer=optimizers.RMSprop(learning_rate=0.001),\n",
        "              loss=losses.binary_crossentropy,\n",
        "              metrics=[metrics.binary_accuracy])"
      ],
      "metadata": {
        "id": "hfJdCDfXE_N-"
      },
      "execution_count": 12,
      "outputs": []
    },
    {
      "cell_type": "markdown",
      "source": [
        "Validating our approach\n",
        "In order to monitor during training the accuracy of the model on data that it has never seen before, we will create a \"validation set\" by setting apart 10,000 samples from the original training data:"
      ],
      "metadata": {
        "id": "tFzvUlc5FEIl"
      }
    },
    {
      "cell_type": "code",
      "source": [
        "x_val = x_train[:10000]\n",
        "partial_x_train = x_train[10000:]\n",
        "\n",
        "y_val = y_train[:10000]\n",
        "partial_y_train = y_train[10000:]"
      ],
      "metadata": {
        "id": "EAYoTuz1FGN4"
      },
      "execution_count": 13,
      "outputs": []
    },
    {
      "cell_type": "markdown",
      "source": [
        "We will now train our model for 20 epochs (20 iterations over all samples in the x_train and y_train tensors), in mini-batches of 512 samples. At this same time we will monitor loss and accuracy on the 10,000 samples that we set apart. This is done by passing the validation data as the validation_data argument:"
      ],
      "metadata": {
        "id": "DksrtgA7FN0j"
      }
    },
    {
      "cell_type": "code",
      "source": [
        "history = model.fit(partial_x_train,\n",
        "                    partial_y_train,\n",
        "                    epochs=20,\n",
        "                    batch_size=512,\n",
        "                    validation_data=(x_val, y_val))"
      ],
      "metadata": {
        "colab": {
          "base_uri": "https://localhost:8080/"
        },
        "id": "OUn6w45mFPl1",
        "outputId": "157d6f8b-7f6a-4ebf-f652-72a4233b0334"
      },
      "execution_count": 14,
      "outputs": [
        {
          "output_type": "stream",
          "name": "stdout",
          "text": [
            "Epoch 1/20\n",
            "30/30 [==============================] - 5s 105ms/step - loss: 0.5203 - binary_accuracy: 0.7808 - val_loss: 0.4022 - val_binary_accuracy: 0.8534\n",
            "Epoch 2/20\n",
            "30/30 [==============================] - 1s 42ms/step - loss: 0.3061 - binary_accuracy: 0.9048 - val_loss: 0.3135 - val_binary_accuracy: 0.8786\n",
            "Epoch 3/20\n",
            "30/30 [==============================] - 1s 41ms/step - loss: 0.2227 - binary_accuracy: 0.9265 - val_loss: 0.2908 - val_binary_accuracy: 0.8837\n",
            "Epoch 4/20\n",
            "30/30 [==============================] - 1s 41ms/step - loss: 0.1777 - binary_accuracy: 0.9401 - val_loss: 0.2785 - val_binary_accuracy: 0.8898\n",
            "Epoch 5/20\n",
            "30/30 [==============================] - 2s 53ms/step - loss: 0.1410 - binary_accuracy: 0.9549 - val_loss: 0.2809 - val_binary_accuracy: 0.8888\n",
            "Epoch 6/20\n",
            "30/30 [==============================] - 2s 67ms/step - loss: 0.1180 - binary_accuracy: 0.9630 - val_loss: 0.3023 - val_binary_accuracy: 0.8846\n",
            "Epoch 7/20\n",
            "30/30 [==============================] - 2s 66ms/step - loss: 0.0976 - binary_accuracy: 0.9720 - val_loss: 0.3157 - val_binary_accuracy: 0.8810\n",
            "Epoch 8/20\n",
            "30/30 [==============================] - 2s 64ms/step - loss: 0.0816 - binary_accuracy: 0.9767 - val_loss: 0.3439 - val_binary_accuracy: 0.8754\n",
            "Epoch 9/20\n",
            "30/30 [==============================] - 2s 61ms/step - loss: 0.0669 - binary_accuracy: 0.9825 - val_loss: 0.3508 - val_binary_accuracy: 0.8792\n",
            "Epoch 10/20\n",
            "30/30 [==============================] - 1s 41ms/step - loss: 0.0567 - binary_accuracy: 0.9851 - val_loss: 0.3723 - val_binary_accuracy: 0.8786\n",
            "Epoch 11/20\n",
            "30/30 [==============================] - 1s 41ms/step - loss: 0.0443 - binary_accuracy: 0.9902 - val_loss: 0.3985 - val_binary_accuracy: 0.8775\n",
            "Epoch 12/20\n",
            "30/30 [==============================] - 1s 41ms/step - loss: 0.0378 - binary_accuracy: 0.9911 - val_loss: 0.4286 - val_binary_accuracy: 0.8762\n",
            "Epoch 13/20\n",
            "30/30 [==============================] - 1s 40ms/step - loss: 0.0287 - binary_accuracy: 0.9946 - val_loss: 0.4612 - val_binary_accuracy: 0.8736\n",
            "Epoch 14/20\n",
            "30/30 [==============================] - 1s 41ms/step - loss: 0.0233 - binary_accuracy: 0.9958 - val_loss: 0.4886 - val_binary_accuracy: 0.8723\n",
            "Epoch 15/20\n",
            "30/30 [==============================] - 1s 41ms/step - loss: 0.0190 - binary_accuracy: 0.9968 - val_loss: 0.5205 - val_binary_accuracy: 0.8710\n",
            "Epoch 16/20\n",
            "30/30 [==============================] - 1s 40ms/step - loss: 0.0150 - binary_accuracy: 0.9985 - val_loss: 0.5586 - val_binary_accuracy: 0.8690\n",
            "Epoch 17/20\n",
            "30/30 [==============================] - 1s 42ms/step - loss: 0.0132 - binary_accuracy: 0.9979 - val_loss: 0.6046 - val_binary_accuracy: 0.8660\n",
            "Epoch 18/20\n",
            "30/30 [==============================] - 2s 57ms/step - loss: 0.0066 - binary_accuracy: 0.9997 - val_loss: 0.6238 - val_binary_accuracy: 0.8691\n",
            "Epoch 19/20\n",
            "30/30 [==============================] - 2s 63ms/step - loss: 0.0103 - binary_accuracy: 0.9979 - val_loss: 0.6576 - val_binary_accuracy: 0.8660\n",
            "Epoch 20/20\n",
            "30/30 [==============================] - 2s 68ms/step - loss: 0.0038 - binary_accuracy: 0.9999 - val_loss: 0.6879 - val_binary_accuracy: 0.8674\n"
          ]
        }
      ]
    },
    {
      "cell_type": "markdown",
      "source": [
        "On CPU, this will take less than two seconds per epoch -- training is over in 20 seconds. At the end of every epoch, there is a slight pause as the model computes its loss and accuracy on the 10,000 samples of the validation data.\n",
        "\n",
        "Note that the call to model.fit() returns a History object. This object has a member history, which is a dictionary containing data about everything that happened during training. Let's take a look at it:"
      ],
      "metadata": {
        "id": "g_2sHIKDFcYx"
      }
    },
    {
      "cell_type": "code",
      "source": [
        "history_dict = history.history\n",
        "history_dict.keys()"
      ],
      "metadata": {
        "colab": {
          "base_uri": "https://localhost:8080/"
        },
        "id": "VN6HIV6RFfom",
        "outputId": "001d7154-1d7a-4253-8c0e-aa7bd193c12b"
      },
      "execution_count": 15,
      "outputs": [
        {
          "output_type": "execute_result",
          "data": {
            "text/plain": [
              "dict_keys(['loss', 'binary_accuracy', 'val_loss', 'val_binary_accuracy'])"
            ]
          },
          "metadata": {},
          "execution_count": 15
        }
      ]
    },
    {
      "cell_type": "markdown",
      "source": [
        "It contains 4 entries: one per metric that was being monitored, during training and during validation. Let's use Matplotlib to plot the training and validation loss side by side, as well as the training and validation accuracy:"
      ],
      "metadata": {
        "id": "JOz82ZkZFlvB"
      }
    },
    {
      "cell_type": "code",
      "source": [
        "import matplotlib.pyplot as plt\n",
        "\n",
        "acc = history.history['binary_accuracy']\n",
        "val_acc = history.history['val_binary_accuracy']\n",
        "loss = history.history['loss']\n",
        "val_loss = history.history['val_loss']\n",
        "\n",
        "epochs = range(1, len(acc) + 1)\n",
        "\n",
        "# \"bo\" is for \"blue dot\"\n",
        "plt.plot(epochs, loss, 'bo', label='Training loss')\n",
        "# b is for \"solid blue line\"\n",
        "plt.plot(epochs, val_loss, 'b', label='Validation loss')\n",
        "plt.title('Training and validation loss')\n",
        "plt.xlabel('Epochs')\n",
        "plt.ylabel('Loss')\n",
        "plt.legend()\n",
        "\n",
        "plt.show()"
      ],
      "metadata": {
        "colab": {
          "base_uri": "https://localhost:8080/",
          "height": 472
        },
        "id": "oHvsy4sAFru0",
        "outputId": "aad17041-8fa6-421f-c688-73a78643f274"
      },
      "execution_count": 16,
      "outputs": [
        {
          "output_type": "display_data",
          "data": {
            "text/plain": [
              "<Figure size 640x480 with 1 Axes>"
            ],
            "image/png": "[encoded data removed]"
          },
          "metadata": {}
        }
      ]
    },
    {
      "cell_type": "code",
      "source": [
        "plt.clf()   # clear figure\n",
        "acc_values = history_dict['binary_accuracy']\n",
        "val_acc_values = history_dict['val_binary_accuracy']\n",
        "\n",
        "plt.plot(epochs, acc, 'bo', label='Training acc')\n",
        "plt.plot(epochs, val_acc, 'b', label='Validation acc')\n",
        "plt.title('Training and validation accuracy')\n",
        "plt.xlabel('Epochs')\n",
        "plt.ylabel('Loss')\n",
        "plt.legend()\n",
        "\n",
        "plt.show()"
      ],
      "metadata": {
        "colab": {
          "base_uri": "https://localhost:8080/",
          "height": 472
        },
        "id": "aT9jrRmuILEw",
        "outputId": "367c0ee3-392c-46f6-d64b-10b08ef16ddb"
      },
      "execution_count": 17,
      "outputs": [
        {
          "output_type": "display_data",
          "data": {
            "text/plain": [
              "<Figure size 640x480 with 1 Axes>"
            ],
            "image/png": "[encoded data removed]"
          },
          "metadata": {}
        }
      ]
    },
    {
      "cell_type": "code",
      "source": [
        "test_loss, test_accuracy = model.evaluate(x_test, y_test)\n",
        "print(f'Test Accuracy: {test_accuracy}')\n",
        "print(f'Test Loss: {test_loss}')"
      ],
      "metadata": {
        "colab": {
          "base_uri": "https://localhost:8080/"
        },
        "id": "lYoD5I0URxem",
        "outputId": "c07d2316-ec57-40e5-dc8b-308fafa579eb"
      },
      "execution_count": 18,
      "outputs": [
        {
          "output_type": "stream",
          "name": "stdout",
          "text": [
            "782/782 [==============================] - 3s 4ms/step - loss: 0.7438 - binary_accuracy: 0.8525\n",
            "Test Accuracy: 0.8524799942970276\n",
            "Test Loss: 0.7437929511070251\n"
          ]
        }
      ]
    },
    {
      "cell_type": "markdown",
      "source": [
        "#New Model Creation with more hidden layers and hidden units."
      ],
      "metadata": {
        "id": "RhX0vLY9NxXg"
      }
    },
    {
      "cell_type": "code",
      "source": [
        "from keras import models\n",
        "from keras import layers\n",
        "from keras.layers import Dropout\n",
        "\n",
        "my_new_model = models.Sequential()\n",
        "my_new_model.add(layers.Dense(32, activation='tanh', input_shape=(10000,)))\n",
        "my_new_model.add(layers.Dropout(0.1))  # Adding the dropout layer after the first Dense layer\n",
        "my_new_model.add(layers.Dense(64, activation='tanh'))\n",
        "my_new_model.add(layers.Dropout(0.2))  # Adding the dropout layer after the Second Dense layer\n",
        "my_new_model.add(layers.Dense(128, activation='tanh'))\n",
        "my_new_model.add(layers.Dropout(0.1))  # Adding the dropout layer after the Second Dense layer\n",
        "\n"
      ],
      "metadata": {
        "id": "D5eE7LcfEfbZ"
      },
      "execution_count": 19,
      "outputs": []
    },
    {
      "cell_type": "code",
      "source": [
        "my_new_model.compile(optimizer='rmsprop',\n",
        "              loss='mean_squared_error',\n",
        "              metrics=['binary_accuracy'])"
      ],
      "metadata": {
        "id": "_8NYF3loG_Bx"
      },
      "execution_count": 20,
      "outputs": []
    },
    {
      "cell_type": "code",
      "source": [
        "from keras import optimizers\n",
        "\n",
        "my_new_model.compile(optimizer=optimizers.RMSprop(learning_rate=0.001),\n",
        "              loss='mean_squared_error',\n",
        "              metrics=['binary_accuracy'])"
      ],
      "metadata": {
        "id": "BmO4LUN6IJ3p"
      },
      "execution_count": 21,
      "outputs": []
    },
    {
      "cell_type": "code",
      "source": [
        "from keras import losses\n",
        "from keras import metrics\n",
        "\n",
        "my_new_model.compile(optimizer=optimizers.RMSprop(learning_rate=0.001),\n",
        "              loss=losses.mean_squared_error,\n",
        "              metrics=[metrics.binary_accuracy])"
      ],
      "metadata": {
        "id": "RYRTfo2WLGCF"
      },
      "execution_count": 22,
      "outputs": []
    },
    {
      "cell_type": "code",
      "source": [
        "x_val_new_model = x_train[:10000]\n",
        "partial_x_train_new_model = x_train[10000:]\n",
        "\n",
        "y_val_new_model = y_train[:10000]\n",
        "partial_y_train_new_model = y_train[10000:]"
      ],
      "metadata": {
        "id": "qX61h0tVLpnR"
      },
      "execution_count": 23,
      "outputs": []
    },
    {
      "cell_type": "code",
      "source": [
        "history_new_model = my_new_model.fit(partial_x_train_new_model,\n",
        "                    partial_y_train_new_model,\n",
        "                    epochs=20,\n",
        "                    batch_size=512,\n",
        "                    validation_data=(x_val_new_model, y_val_new_model))"
      ],
      "metadata": {
        "colab": {
          "base_uri": "https://localhost:8080/"
        },
        "id": "HuHxbFQrLpqs",
        "outputId": "f2dce980-14c1-4af5-acd9-ebd2b107d7da"
      },
      "execution_count": 24,
      "outputs": [
        {
          "output_type": "stream",
          "name": "stdout",
          "text": [
            "Epoch 1/20\n",
            "30/30 [==============================] - 4s 108ms/step - loss: 0.2855 - binary_accuracy: 0.6352 - val_loss: 0.1389 - val_binary_accuracy: 0.8421\n",
            "Epoch 2/20\n",
            "30/30 [==============================] - 2s 63ms/step - loss: 0.1601 - binary_accuracy: 0.8272 - val_loss: 0.1248 - val_binary_accuracy: 0.8745\n",
            "Epoch 3/20\n",
            "30/30 [==============================] - 2s 62ms/step - loss: 0.1415 - binary_accuracy: 0.8564 - val_loss: 0.1193 - val_binary_accuracy: 0.8747\n",
            "Epoch 4/20\n",
            "30/30 [==============================] - 2s 62ms/step - loss: 0.1320 - binary_accuracy: 0.8685 - val_loss: 0.1251 - val_binary_accuracy: 0.8694\n",
            "Epoch 5/20\n",
            "30/30 [==============================] - 2s 62ms/step - loss: 0.1233 - binary_accuracy: 0.8814 - val_loss: 0.1218 - val_binary_accuracy: 0.8447\n",
            "Epoch 6/20\n",
            "30/30 [==============================] - 2s 62ms/step - loss: 0.1201 - binary_accuracy: 0.8870 - val_loss: 0.1164 - val_binary_accuracy: 0.8584\n",
            "Epoch 7/20\n",
            "30/30 [==============================] - 2s 80ms/step - loss: 0.1148 - binary_accuracy: 0.8942 - val_loss: 0.1296 - val_binary_accuracy: 0.8194\n",
            "Epoch 8/20\n",
            "30/30 [==============================] - 3s 84ms/step - loss: 0.1109 - binary_accuracy: 0.8985 - val_loss: 0.1191 - val_binary_accuracy: 0.8653\n",
            "Epoch 9/20\n",
            "30/30 [==============================] - 3s 107ms/step - loss: 0.1087 - binary_accuracy: 0.9028 - val_loss: 0.1199 - val_binary_accuracy: 0.8656\n",
            "Epoch 10/20\n",
            "30/30 [==============================] - 2s 67ms/step - loss: 0.1034 - binary_accuracy: 0.9096 - val_loss: 0.1150 - val_binary_accuracy: 0.8565\n",
            "Epoch 11/20\n",
            "30/30 [==============================] - 2s 62ms/step - loss: 0.1018 - binary_accuracy: 0.9114 - val_loss: 0.1133 - val_binary_accuracy: 0.8634\n",
            "Epoch 12/20\n",
            "30/30 [==============================] - 2s 62ms/step - loss: 0.0983 - binary_accuracy: 0.9154 - val_loss: 0.1248 - val_binary_accuracy: 0.8610\n",
            "Epoch 13/20\n",
            "30/30 [==============================] - 2s 62ms/step - loss: 0.0940 - binary_accuracy: 0.9203 - val_loss: 0.1198 - val_binary_accuracy: 0.8616\n",
            "Epoch 14/20\n",
            "30/30 [==============================] - 2s 62ms/step - loss: 0.0905 - binary_accuracy: 0.9228 - val_loss: 0.1253 - val_binary_accuracy: 0.8580\n",
            "Epoch 15/20\n",
            "30/30 [==============================] - 2s 67ms/step - loss: 0.0866 - binary_accuracy: 0.9282 - val_loss: 0.1188 - val_binary_accuracy: 0.8602\n",
            "Epoch 16/20\n",
            "30/30 [==============================] - 3s 84ms/step - loss: 0.0848 - binary_accuracy: 0.9287 - val_loss: 0.1106 - val_binary_accuracy: 0.8623\n",
            "Epoch 17/20\n",
            "30/30 [==============================] - 3s 86ms/step - loss: 0.0788 - binary_accuracy: 0.9342 - val_loss: 0.1157 - val_binary_accuracy: 0.8450\n",
            "Epoch 18/20\n",
            "30/30 [==============================] - 3s 86ms/step - loss: 0.0778 - binary_accuracy: 0.9352 - val_loss: 0.1096 - val_binary_accuracy: 0.8628\n",
            "Epoch 19/20\n",
            "30/30 [==============================] - 2s 52ms/step - loss: 0.0749 - binary_accuracy: 0.9383 - val_loss: 0.1060 - val_binary_accuracy: 0.8622\n",
            "Epoch 20/20\n",
            "30/30 [==============================] - 2s 51ms/step - loss: 0.0728 - binary_accuracy: 0.9395 - val_loss: 0.1058 - val_binary_accuracy: 0.8612\n"
          ]
        }
      ]
    },
    {
      "cell_type": "code",
      "source": [
        "history_dict_new_model = history_new_model.history\n",
        "history_dict_new_model.keys()"
      ],
      "metadata": {
        "colab": {
          "base_uri": "https://localhost:8080/"
        },
        "id": "j-uveSwlLqKw",
        "outputId": "510708a8-bf8b-4868-d64e-142c843c5f59"
      },
      "execution_count": 25,
      "outputs": [
        {
          "output_type": "execute_result",
          "data": {
            "text/plain": [
              "dict_keys(['loss', 'binary_accuracy', 'val_loss', 'val_binary_accuracy'])"
            ]
          },
          "metadata": {},
          "execution_count": 25
        }
      ]
    },
    {
      "cell_type": "code",
      "source": [
        "import matplotlib.pyplot as plt\n",
        "\n",
        "acc_new_model = history_new_model.history['binary_accuracy']\n",
        "val_acc_new_model = history_new_model.history['val_binary_accuracy']\n",
        "loss_new_model = history_new_model.history['loss']\n",
        "val_loss_new_model = history_new_model.history['val_loss']\n",
        "\n",
        "epochs = range(1, len(acc) + 1)\n",
        "\n",
        "# \"bo\" is for \"blue dot\"\n",
        "plt.plot(epochs, loss_new_model, 'bo', label='Training loss')\n",
        "# b is for \"solid blue line\"\n",
        "plt.plot(epochs, val_loss_new_model, 'b', label='Validation loss')\n",
        "plt.title('Training and validation loss')\n",
        "plt.xlabel('Epochs')\n",
        "plt.ylabel('Loss')\n",
        "plt.legend()\n",
        "\n",
        "plt.show()"
      ],
      "metadata": {
        "colab": {
          "base_uri": "https://localhost:8080/",
          "height": 472
        },
        "id": "lw3ZRyZ8MaTV",
        "outputId": "5b1b4a73-6d6a-476c-8a73-b849cc50f88c"
      },
      "execution_count": 26,
      "outputs": [
        {
          "output_type": "display_data",
          "data": {
            "text/plain": [
              "<Figure size 640x480 with 1 Axes>"
            ],
            "image/png": "[encoded data removed]"
          },
          "metadata": {}
        }
      ]
    },
    {
      "cell_type": "code",
      "source": [
        "plt.clf()   # clear figure\n",
        "acc_values_new_model = history_dict_new_model['binary_accuracy']\n",
        "val_acc_values_new_model = history_dict_new_model['val_binary_accuracy']\n",
        "\n",
        "plt.plot(epochs, acc_new_model, 'bo', label='Training acc')\n",
        "plt.plot(epochs, val_acc_new_model, 'b', label='Validation acc')\n",
        "plt.title('Training and validation accuracy')\n",
        "plt.xlabel('Epochs')\n",
        "plt.ylabel('Loss')\n",
        "plt.legend()\n",
        "\n",
        "plt.show()"
      ],
      "metadata": {
        "colab": {
          "base_uri": "https://localhost:8080/",
          "height": 472
        },
        "id": "yALWt9r8Mox6",
        "outputId": "b4dceb22-9b64-4f98-851f-f32d0847576f"
      },
      "execution_count": 27,
      "outputs": [
        {
          "output_type": "display_data",
          "data": {
            "text/plain": [
              "<Figure size 640x480 with 1 Axes>"
            ],
            "image/png": "[encoded data removed]"
          },
          "metadata": {}
        }
      ]
    },
    {
      "cell_type": "code",
      "source": [
        "test_loss, test_accuracy = my_new_model.evaluate(x_test, y_test)\n",
        "print(f'Test Accuracy: {test_accuracy}')\n",
        "print(f'Test Loss: {test_loss}')"
      ],
      "metadata": {
        "colab": {
          "base_uri": "https://localhost:8080/"
        },
        "id": "s-Og_VyyPnJ_",
        "outputId": "ada5bd6d-dba7-423d-b904-3ca5abe3f579"
      },
      "execution_count": 28,
      "outputs": [
        {
          "output_type": "stream",
          "name": "stdout",
          "text": [
            "782/782 [==============================] - 2s 3ms/step - loss: 0.1171 - binary_accuracy: 0.8472\n",
            "Test Accuracy: 0.8471631407737732\n",
            "Test Loss: 0.117084801197052\n"
          ]
        }
      ]
    },
    {
      "cell_type": "markdown",
      "source": [
        "**with Dropout rates of 0.1 (3 hidden layers)**\n",
        "\n",
        "Test Accuracy: 0.8471631407737732\n",
        "\n",
        "Test Loss: 0.117084801197052\n",
        "\n",
        "**without Dropout (3 hidden layers)**\n",
        "\n",
        "Test Accuracy: 0.8470787405967712\n",
        "\n",
        "Test Loss: 0.149924476146698\n",
        "\n",
        "\n",
        "**without Dropout (5 hidden layers)**\n",
        "\n",
        "Test Accuracy: 0.8390406370162964\n",
        "\n",
        "Test Loss: 0.1224898025393486"
      ],
      "metadata": {
        "id": "9tDHwYQnCSCA"
      }
    },
    {
      "cell_type": "code",
      "source": [
        "#Now Comparing Old Model and New model performance on Test Accuracy and Test loss deriving the conclusions\n",
        "\n",
        "#Old Model\n",
        "test_loss, test_accuracy = model.evaluate(x_test, y_test)\n",
        "print(f'Test Accuracy: {test_accuracy}')\n",
        "print(f'Test Loss: {test_loss}')\n",
        "\n",
        "#Model Before Adding Dropout layers\n",
        "#Test Accuracy: 0.8390\n",
        "#Test Loss: 0.12248\n",
        "\n",
        "#New Model - After Adding Dropout layers\n",
        "test_loss, test_accuracy = my_new_model.evaluate(x_test, y_test)\n",
        "print(f'Test Accuracy: {test_accuracy}')\n",
        "print(f'Test Loss: {test_loss}')\n"
      ],
      "metadata": {
        "colab": {
          "base_uri": "https://localhost:8080/"
        },
        "id": "OlquFO4vYlCa",
        "outputId": "1bd906a3-9514-45c8-fffd-a0b122470dd2"
      },
      "execution_count": 29,
      "outputs": [
        {
          "output_type": "stream",
          "name": "stdout",
          "text": [
            "782/782 [==============================] - 2s 3ms/step - loss: 0.7438 - binary_accuracy: 0.8525\n",
            "Test Accuracy: 0.8524799942970276\n",
            "Test Loss: 0.7437929511070251\n",
            "782/782 [==============================] - 3s 4ms/step - loss: 0.1171 - binary_accuracy: 0.8472\n",
            "Test Accuracy: 0.8471631407737732\n",
            "Test Loss: 0.117084801197052\n"
          ]
        }
      ]
    },
    {
      "cell_type": "markdown",
      "source": [
        "**Old Model (Without Dropout):**\n",
        "\n",
        "Test Accuracy: 0.8441200256347656\n",
        "\n",
        "Test Loss: 0.7614247798919678\n",
        "\n",
        "**New Model (Before Adding Dropout Layers):**\n",
        "\n",
        "I modified the architecture to include 3 layers with hidden units [16, 32, 64].\n",
        "\n",
        "Test Accuracy: 0.8470787405967712\n",
        "\n",
        "Test Loss: 0.149924476146698\n",
        "\n",
        "Now I modified the architecture to include 5 layers with hidden units [4, 8, 16, 32, 64].\n",
        "\n",
        "Test Accuracy: 0.8390\n",
        "\n",
        "Test Loss: 0.1225\n",
        "\n",
        "**New Model (After Adding Dropout Layers and Varying Rates):**\n",
        "\n",
        "I further refined the architecture to have **3 layers** with **hidden units [16, 32, 64]**.\n",
        "\n",
        "I experimented with **varying dropout rates [0.1, 0.2, 0.1]**.\n",
        "\n",
        "Test Accuracy: 0.8471631407737732\n",
        "\n",
        "Test Loss: 0.117084801197052\n",
        "\n",
        "Now I further refined the architecture to have **5 layers** with **hidden units [4, 8, 16, 32, 64]**.\n",
        "\n",
        "I experimented with **varying dropout rates [0.2, 0.3, 0.4, 0.5, 0.6]**.\n",
        "\n",
        "Test Accuracy: 0.8640\n",
        "\n",
        "Test Loss: 0.1097\n",
        "\n",
        "**Summary:**\n",
        "\n",
        "**Old Model (Before Adding Dropout Layers):**\n",
        "\n",
        "Test Accuracy: 0.8441200256347656\n",
        "\n",
        "Test Loss: 0.7614247798919678\n",
        "\n",
        "Initially, I used a model without dropout layers, resulting in a test accuracy of approximately 84.44% with a test loss of 0.7614.\n",
        "\n",
        "**New Model (Before Adding Dropout Layers):**\n",
        "\n",
        "I modified the architecture to include 3 layers with hidden units [16, 32, 64].\n",
        "\n",
        "Test Accuracy: 0.8470787405967712\n",
        "\n",
        "Test Loss: 0.149924476146698\n",
        "\n",
        "Now I made architectural changes, moving to 5 layers with hidden units [4, 8, 16, 32, 64].\n",
        "\n",
        "Test Accuracy: 0.8390\n",
        "\n",
        "Test Loss: 0.1225\n",
        "\n",
        "In the next iteration, I increased the model's complexity but did not include dropout layers. This led to a lower test loss of 0.1225 but a slightly reduced test accuracy of 83.90%, potentially indicating overfitting.\n",
        "\n",
        "**New Model (After Adding Dropout Layers and Varying Rates):**\n",
        "\n",
        "I further refined the architecture to have **3 layers** with **hidden units [16, 32, 64]**.\n",
        "\n",
        "I experimented with **varying dropout rates [0.1, 0.2, 0.1]**.\n",
        "\n",
        "Test Accuracy: 0.8471631407737732\n",
        "\n",
        "Test Loss: 0.117084801197052\n",
        "\n",
        "I continued to refine the model architecture with 5 layers and the same hidden units.\n",
        "\n",
        "I introduced dropout layers with varying dropout rates [0.5, 0.3, 0.7, 0.5].\n",
        "Test Accuracy: 0.8640\n",
        "\n",
        "Test Loss: 0.1097\n",
        "\n",
        "**For 3 hidden layers case:**\n",
        "In the **final iteration**, I addressed overfitting by adding dropout layers. This resulted in a significant improvement in test accuracy to approximately 84.71% and further reduction in test loss to 0.1170, demonstrating better model generalization.\n",
        "\n",
        "Through these changes, I successfully improved the model's performance and mitigated overfitting by introducing dropout regularization.\n",
        "\n",
        "\n",
        "\n",
        "\n"
      ],
      "metadata": {
        "id": "81UTLU-5nOs7"
      }
    }
  ]
}